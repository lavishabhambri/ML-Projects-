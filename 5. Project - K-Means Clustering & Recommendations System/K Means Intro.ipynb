{
 "cells": [
  {
   "cell_type": "markdown",
   "metadata": {},
   "source": [
    "In K Means clustering, we don't have any specific value to accuracy, but we have a value to loss. We have to reduce the loss. If the cluster center has been providing loss less than the earlier loss then it is the best accuracy. \n",
    "\n",
    "In K Means, identification of clusters is done."
   ]
  },
  {
   "cell_type": "code",
   "execution_count": 1,
   "metadata": {},
   "outputs": [],
   "source": [
    "import numpy as np\n",
    "import pandas as pd\n",
    "import matplotlib.pyplot as plt"
   ]
  },
  {
   "cell_type": "code",
   "execution_count": 2,
   "metadata": {},
   "outputs": [],
   "source": [
    "from sklearn.datasets import make_blobs"
   ]
  },
  {
   "cell_type": "code",
   "execution_count": 3,
   "metadata": {},
   "outputs": [],
   "source": [
    "X, _ = make_blobs(centers = 3, random_state= 42)   #Make_blobs return 2 value, but we used underscore as in KMeans we only needed X. We dont need y."
   ]
  },
  {
   "cell_type": "code",
   "execution_count": 4,
   "metadata": {},
   "outputs": [
    {
     "data": {
      "text/plain": [
       "array([[-7.72642091, -8.39495682],\n",
       "       [ 5.45339605,  0.74230537],\n",
       "       [-2.97867201,  9.55684617],\n",
       "       [ 6.04267315,  0.57131862],\n",
       "       [-6.52183983, -6.31932507],\n",
       "       [ 3.64934251,  1.40687195],\n",
       "       [-2.17793419,  9.98983126],\n",
       "       [ 4.42020695,  2.33028226],\n",
       "       [ 4.73695639,  2.94181467],\n",
       "       [-3.6601912 ,  9.38998415],\n",
       "       [-3.05358035,  9.12520872],\n",
       "       [-6.65216726, -5.57296684],\n",
       "       [-6.35768563, -6.58312492],\n",
       "       [-3.6155326 ,  7.8180795 ],\n",
       "       [-1.77073104,  9.18565441],\n",
       "       [-7.95051969, -6.39763718],\n",
       "       [-6.60293639, -6.05292634],\n",
       "       [-2.58120774, 10.01781903],\n",
       "       [-7.76348463, -6.72638449],\n",
       "       [-6.40638957, -6.95293851],\n",
       "       [-2.97261532,  8.54855637],\n",
       "       [-6.9567289 , -6.53895762],\n",
       "       [-7.32614214, -6.0237108 ],\n",
       "       [-2.14780202, 10.55232269],\n",
       "       [-2.54502366, 10.57892978],\n",
       "       [-2.96983639, 10.07140835],\n",
       "       [ 3.22450809,  1.55252436],\n",
       "       [-6.25395984, -7.73726715],\n",
       "       [-7.85430886, -6.09302499],\n",
       "       [-8.1165779 , -8.20056621],\n",
       "       [-7.55965191, -6.6478559 ],\n",
       "       [ 4.93599911,  2.23422496],\n",
       "       [ 4.44751787,  2.27471703],\n",
       "       [-5.72103161, -7.70079191],\n",
       "       [-0.92998481,  9.78172086],\n",
       "       [-3.10983631,  8.72259238],\n",
       "       [-2.44166942,  7.58953794],\n",
       "       [-2.18511365,  8.62920385],\n",
       "       [ 5.55528095,  2.30192079],\n",
       "       [ 4.73163961, -0.01439923],\n",
       "       [-8.25729656, -7.81793463],\n",
       "       [-2.98837186,  8.82862715],\n",
       "       [ 4.60516707,  0.80449165],\n",
       "       [-3.83738367,  9.21114736],\n",
       "       [-2.62484591,  8.71318243],\n",
       "       [ 3.57757512,  2.44676211],\n",
       "       [-8.48711043, -6.69547573],\n",
       "       [-6.70644627, -6.49479221],\n",
       "       [-6.8666253 , -5.42657552],\n",
       "       [ 3.83138523,  1.47141264],\n",
       "       [ 2.02013373,  2.79507219],\n",
       "       [ 4.64499229,  1.73858255],\n",
       "       [-1.6966718 , 10.37052616],\n",
       "       [-6.6197444 , -6.09828672],\n",
       "       [-6.05756703, -4.98331661],\n",
       "       [-7.10308998, -6.1661091 ],\n",
       "       [-3.52202874,  9.32853346],\n",
       "       [-2.26723535,  7.10100588],\n",
       "       [ 6.11777288,  1.45489947],\n",
       "       [-4.23411546,  8.4519986 ],\n",
       "       [-6.58655472, -7.59446101],\n",
       "       [ 3.93782574,  1.64550754],\n",
       "       [-7.12501531, -7.63384576],\n",
       "       [ 2.72110762,  1.94665581],\n",
       "       [-7.14428402, -4.15994043],\n",
       "       [-6.66553345, -8.12584837],\n",
       "       [ 4.70010905,  4.4364118 ],\n",
       "       [-7.76914162, -7.69591988],\n",
       "       [ 4.11011863,  2.48643712],\n",
       "       [ 4.89742923,  1.89872377],\n",
       "       [ 4.29716432,  1.17089241],\n",
       "       [-6.62913434, -6.53366138],\n",
       "       [-8.07093069, -6.22355598],\n",
       "       [-2.16557933,  7.25124597],\n",
       "       [ 4.7395302 ,  1.46969403],\n",
       "       [-5.91625106, -6.46732867],\n",
       "       [ 5.43091078,  1.06378223],\n",
       "       [-6.82141847, -8.02307989],\n",
       "       [ 6.52606474,  2.1477475 ],\n",
       "       [ 3.08921541,  2.04173266],\n",
       "       [-2.1475616 ,  8.36916637],\n",
       "       [ 3.85662554,  1.65110817],\n",
       "       [-1.68665271,  7.79344248],\n",
       "       [-5.01385268, -6.40627667],\n",
       "       [-2.52269485,  7.9565752 ],\n",
       "       [-2.30033403,  7.054616  ],\n",
       "       [-1.04354885,  8.78850983],\n",
       "       [ 3.7204546 ,  3.52310409],\n",
       "       [-3.98771961,  8.29444192],\n",
       "       [ 4.24777068,  0.50965474],\n",
       "       [ 4.7269259 ,  1.67416233],\n",
       "       [ 5.78270165,  2.72510272],\n",
       "       [-3.4172217 ,  7.60198243],\n",
       "       [ 5.22673593,  4.16362531],\n",
       "       [-3.11090424, 10.86656431],\n",
       "       [-3.18611962,  9.62596242],\n",
       "       [-1.4781981 ,  9.94556625],\n",
       "       [ 4.47859312,  2.37722054],\n",
       "       [-5.79657595, -5.82630754],\n",
       "       [-3.34841515,  8.70507375]])"
      ]
     },
     "execution_count": 4,
     "metadata": {},
     "output_type": "execute_result"
    }
   ],
   "source": [
    "X"
   ]
  },
  {
   "cell_type": "code",
   "execution_count": 6,
   "metadata": {},
   "outputs": [
    {
     "data": {
      "text/plain": [
       "<matplotlib.axes._subplots.AxesSubplot at 0x2c4d4521d48>"
      ]
     },
     "execution_count": 6,
     "metadata": {},
     "output_type": "execute_result"
    },
    {
     "data": {
      "image/png": "[encoded data removed]",
      "text/plain": [
       "<Figure size 432x288 with 1 Axes>"
      ]
     },
     "metadata": {
      "needs_background": "light"
     },
     "output_type": "display_data"
    }
   ],
   "source": [
    "#To plot scatter data, lets use seaborn\n",
    "import seaborn as sns\n",
    "sns.scatterplot(X[:, 0], X[:, 1])   #both the values are the features."
   ]
  },
  {
   "cell_type": "code",
   "execution_count": 7,
   "metadata": {},
   "outputs": [],
   "source": [
    "#to create classes of the data by K Means, we have to minimise the loss i.e. we want to minimise the distance.\n",
    "from sklearn.cluster import KMeans"
   ]
  },
  {
   "cell_type": "code",
   "execution_count": 8,
   "metadata": {},
   "outputs": [],
   "source": [
    "model = KMeans(n_clusters = 2)  #n_clusters is the no of clases or clusters we want to form, n_init is the no of iterations we want to run the loop so as to minimise the error, max_iters is the no of times we want to run the inner loop so as to reach the cluster centers. \n",
    "#If the difference in error is greater than the tol value, then we come out off loop , otherwise we run the loop."
   ]
  },
  {
   "cell_type": "code",
   "execution_count": 9,
   "metadata": {},
   "outputs": [
    {
     "data": {
      "text/plain": [
       "KMeans(n_clusters=2)"
      ]
     },
     "execution_count": 9,
     "metadata": {},
     "output_type": "execute_result"
    }
   ],
   "source": [
    "model.fit(X)  #here we only passed X, no y."
   ]
  },
  {
   "cell_type": "code",
   "execution_count": 11,
   "metadata": {},
   "outputs": [],
   "source": [
    "y_generated = model.labels_   #these are the output labels of the data"
   ]
  },
  {
   "cell_type": "code",
   "execution_count": 13,
   "metadata": {},
   "outputs": [
    {
     "data": {
      "text/plain": [
       "<matplotlib.axes._subplots.AxesSubplot at 0x2c4d8285a88>"
      ]
     },
     "execution_count": 13,
     "metadata": {},
     "output_type": "execute_result"
    },
    {
     "data": {
      "image/png": "[encoded data removed]",
      "text/plain": [
       "<Figure size 432x288 with 1 Axes>"
      ]
     },
     "metadata": {
      "needs_background": "light"
     },
     "output_type": "display_data"
    }
   ],
   "source": [
    "sns.scatterplot(X[:, 0], X[:, 1], hue = y_generated)"
   ]
  },
  {
   "cell_type": "code",
   "execution_count": 15,
   "metadata": {},
   "outputs": [],
   "source": [
    "cluster_centers = model.cluster_centers_   #These are the cluster centers used by the algorithm to classify the data."
   ]
  },
  {
   "cell_type": "code",
   "execution_count": 16,
   "metadata": {},
   "outputs": [
    {
     "data": {
      "image/png": "[encoded data removed]",
      "text/plain": [
       "<Figure size 432x288 with 1 Axes>"
      ]
     },
     "metadata": {
      "needs_background": "light"
     },
     "output_type": "display_data"
    }
   ],
   "source": [
    "#Showing the cluster centers. In case of n_clusters = 2, the position of centers is one is at the center of 1 cluster and the other is between the 2 clusters\n",
    "sns.scatterplot(X[:, 0], X[:, 1], hue = y_generated)\n",
    "for center in cluster_centers:\n",
    "    plt.scatter(center[0], center[1], s = 62)   #s is the size of the point."
   ]
  },
  {
   "cell_type": "markdown",
   "metadata": {},
   "source": [
    "# Logic - \n",
    "Everytime we have the vote, the vote goes to the cluster center which is nearest to the point. So we need to calculate the average distance travelled and for every location, we minimise this average distance. So we provide the mean of all cluster locations and the new location will be the best location. So it brings the location to the average loacation ie center or centroid. This algo is not an optimised algo, however it is not a brute force algo. "
   ]
  },
  {
   "cell_type": "markdown",
   "metadata": {},
   "source": [
    "# Custom K Means Algorithm"
   ]
  },
  {
   "cell_type": "code",
   "execution_count": 17,
   "metadata": {},
   "outputs": [],
   "source": [
    "import random"
   ]
  },
  {
   "cell_type": "code",
   "execution_count": 18,
   "metadata": {},
   "outputs": [],
   "source": [
    "class Cluster:   #this class contains the cluster centers\n",
    "    \n",
    "    def __init__(self, center):\n",
    "        self.center = center\n",
    "        self.points = []\n",
    "        \n",
    "    def distance(self, point):\n",
    "        #this returns the distance between two points.\n",
    "        return np.sqrt(np.sum(point - self.center) ** 2)\n",
    "        \n",
    "    \n",
    "class CustomKMeans:\n",
    "\n",
    "    def __init__(self, n_clusters= 3, max_iters = 10):\n",
    "        self.n_clusters = n_clusters\n",
    "        self.max_iters = max_iters\n",
    "        \n",
    "    def fit(self, X):\n",
    "        clusters = []\n",
    "        for i in range(self.n_clusters):\n",
    "            cluster = Cluster(center = random.choice(X))   #chooses a random cluster\n",
    "            clusters.append(cluster)\n",
    "          \n",
    "        \n",
    "        for i in range(self.max_iters):\n",
    "            #for every cluster there should be some initial labels.\n",
    "            labels = []\n",
    "            \n",
    "            #going for each point\n",
    "            for point in X:\n",
    "                #we will ask the points, to which cluster they want to go\n",
    "                #collecting distances from every cluster\n",
    "                distances = []\n",
    "                for cluster in clusters:\n",
    "                    distances.append(cluster.distance(point))\n",
    "\n",
    "                #finding closest cluster\n",
    "                closest_index = np.argmin(distances)   #this is the index of the closest cluster\n",
    "                closest_cluster = clusters[closest_index]   #this is the closest cluster\n",
    "                closest_cluster.points.append(point)   #here we are putting the points to the closest clusters\n",
    "                labels.append(closest_index)     #we are putting the labels of the closest index.\n",
    "             #after this we have allocated every point to one of the clusters.\n",
    "\n",
    "            #relocating the cluster centers and running the loop again\n",
    "            for cluster in clusters:\n",
    "                cluster.center = np.mean(cluster.points, axis = 0)\n",
    "            \n",
    "        self.labels_ = labels\n",
    "        self.cluster_centers_ = [cluster.center for cluster in clusters]\n"
   ]
  },
  {
   "cell_type": "code",
   "execution_count": 21,
   "metadata": {},
   "outputs": [],
   "source": [
    "model = CustomKMeans(n_clusters = 2)\n",
    "model.fit(X)"
   ]
  },
  {
   "cell_type": "code",
   "execution_count": 22,
   "metadata": {},
   "outputs": [
    {
     "data": {
      "text/plain": [
       "<matplotlib.axes._subplots.AxesSubplot at 0x2c4d842b888>"
      ]
     },
     "execution_count": 22,
     "metadata": {},
     "output_type": "execute_result"
    },
    {
     "data": {
      "image/png": "[encoded data removed]",
      "text/plain": [
       "<Figure size 432x288 with 1 Axes>"
      ]
     },
     "metadata": {
      "needs_background": "light"
     },
     "output_type": "display_data"
    }
   ],
   "source": [
    "sns.scatterplot(X[:, 0], X[:, 1], hue = model.labels_)"
   ]
  }
 ],
 "metadata": {
  "kernelspec": {
   "display_name": "Python 3",
   "language": "python",
   "name": "python3"
  },
  "language_info": {
   "codemirror_mode": {
    "name": "ipython",
    "version": 3
   },
   "file_extension": ".py",
   "mimetype": "text/x-python",
   "name": "python",
   "nbconvert_exporter": "python",
   "pygments_lexer": "ipython3",
   "version": "3.7.6"
  }
 },
 "nbformat": 4,
 "nbformat_minor": 4
}

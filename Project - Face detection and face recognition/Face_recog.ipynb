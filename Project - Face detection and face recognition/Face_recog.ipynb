{
 "cells": [
  {
   "cell_type": "code",
   "execution_count": 2,
   "metadata": {},
   "outputs": [
    {
     "name": "stdout",
     "output_type": "stream",
     "text": [
      "(55, 10001) <U8\n"
     ]
    }
   ],
   "source": [
    "import cv2\n",
    "import numpy as np\n",
    "from sklearn.neighbors import KNeighborsClassifier\n",
    "\n",
    "data = np.load(\"face_data.npy\")\n",
    "\n",
    "print(data.shape, data.dtype)    #the datatype is not acceptale for images.\n",
    "\n",
    "X = data[:, 1: ].astype(np.uint8)   #all rows and all columns from the first one\n",
    "y = data[:, 0] \n",
    "\n",
    "#training the model\n",
    "model = KNeighborsClassifier()\n",
    "model.fit(X, y)\n",
    "\n",
    "#Now for predicting the output we need the test data, so for this we need to get realtime videos.\n",
    "cap = cv2.VideoCapture(0)\n",
    "detector = cv2.CascadeClassifier(r\"haarcascade_frontalface_default.xml\")\n",
    "\n",
    "while True:\n",
    "    \n",
    "    ret, frame =cap.read()\n",
    "    \n",
    "    if ret:\n",
    "        faces = detector.detectMultiScale(frame)\n",
    "        for face in faces:\n",
    "            x, y, w, h = face\n",
    "            cut = frame[y: y+h, x: x+w]\n",
    "            fix = cv2.resize(cut, (100, 100))\n",
    "            gray = cv2.cvtColor(fix, cv2.COLOR_BGR2GRAY)\n",
    "            \n",
    "            #to get the predictions for the features we flatten the features.\n",
    "            out = model.predict([gray.flatten()])\n",
    "            cv2.rectangle(frame, (x, y), (x+w, y+h), (0, 0, 255), 2)   #to draw rectangle around the face\n",
    "            cv2.putText(frame, str(out[0]), (x, y-10), cv2.FONT_HERSHEY_COMPLEX, 2, (0, 0, 255), 1)   #to put name slightly above the face\n",
    "            cv2.imshow('My Face', gray)\n",
    "            \n",
    "        cv2.imshow('My Screen', frame)\n",
    "        \n",
    "    key = cv2.waitKey(1)\n",
    "    if key == ord('q'):\n",
    "        break\n",
    "\n",
    "cap.release()\n",
    "cv2.destroyAllWindows()"
   ]
  }
 ],
 "metadata": {
  "kernelspec": {
   "display_name": "Python 3",
   "language": "python",
   "name": "python3"
  },
  "language_info": {
   "codemirror_mode": {
    "name": "ipython",
    "version": 3
   },
   "file_extension": ".py",
   "mimetype": "text/x-python",
   "name": "python",
   "nbconvert_exporter": "python",
   "pygments_lexer": "ipython3",
   "version": "3.7.6"
  }
 },
 "nbformat": 4,
 "nbformat_minor": 4
}

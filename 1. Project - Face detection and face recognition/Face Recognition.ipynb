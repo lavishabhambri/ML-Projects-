{
 "cells": [
  {
   "cell_type": "code",
   "execution_count": 4,
   "metadata": {},
   "outputs": [
    {
     "name": "stdout",
     "output_type": "stream",
     "text": [
      "Enter your name : Doraemon\n"
     ]
    }
   ],
   "source": [
    "import cv2\n",
    "import numpy as np\n",
    "\n",
    "import os\n",
    "\n",
    "cap = cv2.VideoCapture(0)\n",
    "detector = cv2.CascadeClassifier(r\"haarcascade_frontalface_default.xml\")\n",
    "\n",
    "name = input(\"Enter your name : \")\n",
    "\n",
    "frames = []    #this is the input\n",
    "outputs = [] \n",
    "\n",
    "\n",
    "while True:\n",
    "    \n",
    "    ret, frame = cap.read()\n",
    "    \n",
    "    if ret:\n",
    "        faces = detector.detectMultiScale(frame)\n",
    "        \n",
    "        for face in faces:\n",
    "            x, y, w, h = face\n",
    "            \n",
    "            #cut the face\n",
    "            cut = frame[y: y+h, x: x+w]\n",
    "            \n",
    "            \n",
    "            #we want to change the size of the face not the screen.\n",
    "            #we are doing flattening of the features.\n",
    "            fix = cv2.resize(cut, (100, 100))\n",
    "            gray = cv2.cvtColor(fix, cv2.COLOR_BGR2GRAY)\n",
    "            \n",
    "        #display the frame on screen\n",
    "        cv2.imshow(\"My face\", gray)\n",
    "        cv2.imshow(\"My Screen\", frame)\n",
    "        \n",
    "    key = cv2.waitKey(1)\n",
    "    if key == ord('q'):\n",
    "        break\n",
    "    #Reflect them and we have to get X and y and generate classification system.\n",
    "    if key == ord('c'):\n",
    "        #cv2.imwrite(name + \".jpg\", frame)   this saves or creates a file with name.jpg\n",
    "        frames.append(gray.flatten())  #this flattens the gray image into 10,000 values as different lists into 1 by list.\n",
    "        outputs.append([name])   #this contains the list of names into another list.\n",
    "                \n",
    "        \n",
    "X = np.array(frames)\n",
    "y = np.array(outputs)\n",
    "        \n",
    "data = np.hstack([y, X])    #to stack y and X horizontally.\n",
    "        \n",
    "#print(data.shape)     #(no of captures, no of columns)\n",
    "        \n",
    "f_name = \"face_data.npy\"\n",
    "        \n",
    "if os.path.exists(f_name):     #if file is present then load the old data present in the file.\n",
    "    old = np.load(f_name)\n",
    "    data = np.vstack([old, data])\n",
    "            \n",
    "        \n",
    "np.save(f_name, data)    #if we have the data present previously, then we want to add new data vertically ie vertically stacking and check whether file is present or not.    \n",
    "        \n",
    "cap.release()\n",
    "cv2.destroyAllWindows()"
   ]
  }
 ],
 "metadata": {
  "kernelspec": {
   "display_name": "Python 3",
   "language": "python",
   "name": "python3"
  },
  "language_info": {
   "codemirror_mode": {
    "name": "ipython",
    "version": 3
   },
   "file_extension": ".py",
   "mimetype": "text/x-python",
   "name": "python",
   "nbconvert_exporter": "python",
   "pygments_lexer": "ipython3",
   "version": "3.7.6"
  }
 },
 "nbformat": 4,
 "nbformat_minor": 4
}

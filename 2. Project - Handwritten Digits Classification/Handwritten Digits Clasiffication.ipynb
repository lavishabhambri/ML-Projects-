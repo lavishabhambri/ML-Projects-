{
 "cells": [
  {
   "cell_type": "code",
   "execution_count": 1,
   "metadata": {},
   "outputs": [],
   "source": [
    "import numpy as np\n",
    "import matplotlib.pyplot as plt"
   ]
  },
  {
   "cell_type": "code",
   "execution_count": 2,
   "metadata": {},
   "outputs": [],
   "source": [
    "data = np.load(\"mnist_train_small.npy\")"
   ]
  },
  {
   "cell_type": "code",
   "execution_count": 3,
   "metadata": {},
   "outputs": [
    {
     "data": {
      "text/plain": [
       "array([[5, 0, 0, ..., 0, 0, 0],\n",
       "       [7, 0, 0, ..., 0, 0, 0],\n",
       "       [9, 0, 0, ..., 0, 0, 0],\n",
       "       ...,\n",
       "       [2, 0, 0, ..., 0, 0, 0],\n",
       "       [9, 0, 0, ..., 0, 0, 0],\n",
       "       [5, 0, 0, ..., 0, 0, 0]], dtype=uint8)"
      ]
     },
     "execution_count": 3,
     "metadata": {},
     "output_type": "execute_result"
    }
   ],
   "source": [
    "data   #in this data the 0th column-index in every row is the number and the rest columns in a row are the flattened features. "
   ]
  },
  {
   "cell_type": "code",
   "execution_count": 4,
   "metadata": {},
   "outputs": [
    {
     "data": {
      "text/plain": [
       "(19999, 785)"
      ]
     },
     "execution_count": 4,
     "metadata": {},
     "output_type": "execute_result"
    }
   ],
   "source": [
    "data.shape   #so we have 1 y and 784 features , so size of an image = 28*28 pixels. And there are 19999 images like this."
   ]
  },
  {
   "cell_type": "code",
   "execution_count": 5,
   "metadata": {},
   "outputs": [],
   "source": [
    "X = data[:, 1:]  #all rows and all columns except the 0th column\n",
    "y = data[:, 0]   #all rows and only 0th column."
   ]
  },
  {
   "cell_type": "code",
   "execution_count": 6,
   "metadata": {},
   "outputs": [
    {
     "data": {
      "text/plain": [
       "((19999, 784), (19999,))"
      ]
     },
     "execution_count": 6,
     "metadata": {},
     "output_type": "execute_result"
    }
   ],
   "source": [
    "X.shape , y.shape"
   ]
  },
  {
   "cell_type": "code",
   "execution_count": 7,
   "metadata": {},
   "outputs": [
    {
     "data": {
      "text/plain": [
       "<matplotlib.image.AxesImage at 0x290c8c05348>"
      ]
     },
     "execution_count": 7,
     "metadata": {},
     "output_type": "execute_result"
    },
    {
     "data": {
      "image/png": "[encoded data removed]",
      "text/plain": [
       "<Figure size 432x288 with 1 Axes>"
      ]
     },
     "metadata": {
      "needs_background": "light"
     },
     "output_type": "display_data"
    }
   ],
   "source": [
    "#looking at one of the images\n",
    "plt.imshow(X[0].reshape(28, 28), cmap = \"gray\")"
   ]
  },
  {
   "cell_type": "markdown",
   "metadata": {},
   "source": [
    "# Inbuilt KNN"
   ]
  },
  {
   "cell_type": "code",
   "execution_count": 8,
   "metadata": {},
   "outputs": [],
   "source": [
    "from sklearn.model_selection import train_test_split"
   ]
  },
  {
   "cell_type": "code",
   "execution_count": 9,
   "metadata": {},
   "outputs": [],
   "source": [
    "X_train, X_test, y_train, y_test = train_test_split(X, y, test_size = 0.33, random_state = 42)"
   ]
  },
  {
   "cell_type": "code",
   "execution_count": 10,
   "metadata": {},
   "outputs": [
    {
     "data": {
      "text/plain": [
       "((13399, 784), (13399,))"
      ]
     },
     "execution_count": 10,
     "metadata": {},
     "output_type": "execute_result"
    }
   ],
   "source": [
    "X_train.shape, y_train.shape"
   ]
  },
  {
   "cell_type": "code",
   "execution_count": 11,
   "metadata": {},
   "outputs": [
    {
     "data": {
      "text/plain": [
       "((6600, 784), (6600,))"
      ]
     },
     "execution_count": 11,
     "metadata": {},
     "output_type": "execute_result"
    }
   ],
   "source": [
    "X_test.shape, y_test.shape"
   ]
  },
  {
   "cell_type": "code",
   "execution_count": 12,
   "metadata": {},
   "outputs": [],
   "source": [
    "from sklearn.neighbors import KNeighborsClassifier\n",
    "model = KNeighborsClassifier()"
   ]
  },
  {
   "cell_type": "code",
   "execution_count": 13,
   "metadata": {},
   "outputs": [
    {
     "data": {
      "text/plain": [
       "KNeighborsClassifier()"
      ]
     },
     "execution_count": 13,
     "metadata": {},
     "output_type": "execute_result"
    }
   ],
   "source": [
    "#training the model, plotting points on the graph\n",
    "model.fit(X_train, y_train)"
   ]
  },
  {
   "cell_type": "markdown",
   "metadata": {},
   "source": [
    "### In KNN , no work is done in training, all work and all computaions are done at the time of testing."
   ]
  },
  {
   "cell_type": "code",
   "execution_count": 14,
   "metadata": {},
   "outputs": [],
   "source": [
    "predictions = model.predict(X_test[:100])   "
   ]
  },
  {
   "cell_type": "code",
   "execution_count": 15,
   "metadata": {},
   "outputs": [
    {
     "data": {
      "text/plain": [
       "array([1, 7, 0, 9, 4, 5, 4, 6, 9, 2, 0, 6, 1, 9, 9, 4, 9, 1, 6, 2, 7, 9,\n",
       "       9, 2, 4, 4, 5, 6, 0, 5, 9, 0, 8, 7, 9, 0, 2, 3, 8, 8, 3, 7, 0, 9,\n",
       "       8, 2, 7, 3, 7, 9, 1, 9, 8, 3, 9, 3, 2, 1, 0, 4, 5, 4, 9, 3, 6, 6,\n",
       "       0, 9, 7, 0, 6, 0, 3, 2, 3, 4, 9, 5, 5, 4, 1, 6, 0, 2, 6, 0, 5, 3,\n",
       "       3, 1, 8, 0, 6, 9, 5, 9, 2, 0, 3, 1], dtype=uint8)"
      ]
     },
     "execution_count": 15,
     "metadata": {},
     "output_type": "execute_result"
    }
   ],
   "source": [
    "predictions"
   ]
  },
  {
   "cell_type": "code",
   "execution_count": 16,
   "metadata": {},
   "outputs": [
    {
     "data": {
      "text/plain": [
       "array([7, 7, 0, 9, 4, 5, 4, 6, 9, 2, 0, 6, 1, 9, 9, 4, 9, 1, 6, 2, 7, 9,\n",
       "       4, 2, 4, 4, 5, 6, 0, 8, 9, 0, 8, 7, 9, 0, 2, 3, 8, 8, 3, 7, 0, 9,\n",
       "       8, 2, 7, 3, 7, 9, 1, 9, 8, 3, 9, 3, 2, 1, 0, 4, 5, 4, 9, 3, 6, 2,\n",
       "       0, 9, 7, 0, 6, 0, 3, 2, 3, 4, 9, 5, 5, 4, 1, 6, 0, 2, 6, 0, 5, 8,\n",
       "       3, 1, 8, 0, 6, 9, 5, 9, 2, 0, 3, 1], dtype=uint8)"
      ]
     },
     "execution_count": 16,
     "metadata": {},
     "output_type": "execute_result"
    }
   ],
   "source": [
    "y_test[:100]"
   ]
  },
  {
   "cell_type": "code",
   "execution_count": 17,
   "metadata": {},
   "outputs": [
    {
     "data": {
      "text/plain": [
       "0.95"
      ]
     },
     "execution_count": 17,
     "metadata": {},
     "output_type": "execute_result"
    }
   ],
   "source": [
    "model.score(X_test[:100], y_test[:100])"
   ]
  },
  {
   "cell_type": "markdown",
   "metadata": {},
   "source": [
    "# Custom KNN - Our own model from scratch"
   ]
  },
  {
   "cell_type": "code",
   "execution_count": 19,
   "metadata": {},
   "outputs": [],
   "source": [
    "class CustomKNN:\n",
    "    \n",
    "    #constructor\n",
    "    def __init__(self, n_neighbors = 5):   \n",
    "        self.n_neighbors = n_neighbors    #by default, n_neighbors = 5\n",
    "        \n",
    "    #training function - It only says that X and y are the training points.\n",
    "    def fit(self, X, y):\n",
    "        #self._X = X.astype(np.int64)    #We used the astype so as to convert the values into integer which is a large int and so we are able to store the large values her(784 dimensions).\n",
    "        #Instead of above we can use standardisation of X:\n",
    "        self._X = (X - X.mean()) / X.std()   #In standardisation, mean = 0  and standard dev = 1.\n",
    "        self._y = y    #both of these are private so that these cant be accessed from outside.\n",
    "    \n",
    "    #predict_point func - this predicts the class for a single point.\n",
    "    def predict_point(self, point):\n",
    "        list_distances  = []   #stores the distances of the given point from all the training points in each class.\n",
    "        \n",
    "        for x_point, y_point in zip(self._X, self._y):\n",
    "            #to calculate distances we dont find the square root as at the end we just need to compare all the values.\n",
    "            dist_point = ((point - x_point)**2).sum()\n",
    "            list_distances.append([dist_point, y_point])  #we are appending array(consists of distance and class for a point) inside the distances array.\n",
    "            \n",
    "        #sorting the array on the basis of distance which is present at the index 0.\n",
    "        sorted_dist = sorted(list_distances)\n",
    "        \n",
    "        #taking top k= n_neighbors values(0th index) out of the sorted list\n",
    "        top_k = sorted_dist[:self.n_neighbors]  \n",
    "        \n",
    "        #Now we try to get the most frequent class among these top_k classes\n",
    "        items, counts = np.unique(np.array(top_k)[:, 1], return_counts = True)\n",
    "        ans = items[np.argmax(counts)]\n",
    "        \n",
    "        return ans\n",
    "    \n",
    "    #predict - gives the answer for each number in the array\n",
    "    def predict(self, X):\n",
    "        results = []\n",
    "        X = (X - X.mean()) / X.std()\n",
    "        for point in X:\n",
    "            results.append(self.predict_point(point))\n",
    "        return np.array(results, dtype = int)  #to get integer values\n",
    "    \n",
    "    #score - to measure the accuracy\n",
    "    def score(self, X, y):\n",
    "        return sum(self.predict(X) == y) / len(y)"
   ]
  },
  {
   "cell_type": "code",
   "execution_count": 20,
   "metadata": {},
   "outputs": [],
   "source": [
    "knn = CustomKNN()"
   ]
  },
  {
   "cell_type": "code",
   "execution_count": 21,
   "metadata": {},
   "outputs": [],
   "source": [
    "knn.fit(X_train , y_train)"
   ]
  },
  {
   "cell_type": "code",
   "execution_count": 22,
   "metadata": {},
   "outputs": [
    {
     "data": {
      "text/plain": [
       "array([1, 7, 0, 9, 4, 5, 4, 6, 9, 2])"
      ]
     },
     "execution_count": 22,
     "metadata": {},
     "output_type": "execute_result"
    }
   ],
   "source": [
    "knn.predict(X_test[: 10])"
   ]
  },
  {
   "cell_type": "code",
   "execution_count": 23,
   "metadata": {},
   "outputs": [
    {
     "data": {
      "text/plain": [
       "array([7, 7, 0, 9, 4, 5, 4, 6, 9, 2], dtype=uint8)"
      ]
     },
     "execution_count": 23,
     "metadata": {},
     "output_type": "execute_result"
    }
   ],
   "source": [
    "y_test[: 10]"
   ]
  },
  {
   "cell_type": "code",
   "execution_count": 24,
   "metadata": {},
   "outputs": [
    {
     "data": {
      "text/plain": [
       "0.95"
      ]
     },
     "execution_count": 24,
     "metadata": {},
     "output_type": "execute_result"
    }
   ],
   "source": [
    "knn.score(X_test[:100], y_test[:100])"
   ]
  },
  {
   "cell_type": "markdown",
   "metadata": {},
   "source": [
    "# Demo of above CustomKNN function"
   ]
  },
  {
   "cell_type": "code",
   "execution_count": 25,
   "metadata": {},
   "outputs": [
    {
     "data": {
      "text/plain": [
       "[(1, 11), (2, 12), (3, 13), (4, 14)]"
      ]
     },
     "execution_count": 25,
     "metadata": {},
     "output_type": "execute_result"
    }
   ],
   "source": [
    "#zip \n",
    "x = [1, 2, 3, 4]\n",
    "y = [11, 12, 13, 14]\n",
    "list(zip(x, y))  #zip combines the corresponding values"
   ]
  },
  {
   "cell_type": "code",
   "execution_count": 26,
   "metadata": {},
   "outputs": [
    {
     "name": "stdout",
     "output_type": "stream",
     "text": [
      "[[11, 1], [14, 1], [22, 0], [23, 0], [78, 0], [100, 0]]\n",
      "[[23, 0], [22, 0], [100, 0], [78, 0], [11, 1], [14, 1]]\n"
     ]
    }
   ],
   "source": [
    "#sorted\n",
    "li = [\n",
    "    [23, 0],\n",
    "    [11, 1],\n",
    "    [14, 1],\n",
    "    [22, 0],\n",
    "    [100, 0],\n",
    "    [78, 0]\n",
    "]\n",
    "print(sorted(li)) #this gives the sorted list on the basis of index=0\n",
    "print(sorted(li, key = lambda x : x[1]))   #this gives the sorted list on the basis of x[1] ie first index of x."
   ]
  },
  {
   "cell_type": "code",
   "execution_count": 27,
   "metadata": {},
   "outputs": [
    {
     "name": "stdout",
     "output_type": "stream",
     "text": [
      "[0 1]\n"
     ]
    }
   ],
   "source": [
    "#to get top k=4(say) class and its count using unique\n",
    "topK = sorted(li[:4])\n",
    "print(np.unique(np.array(topK)[:, 1])) #this gives only the unique values present in topK[:, 1]\n",
    "items, counts = np.unique(np.array(topK)[:, 1], return_counts = True)   #to get the freq also along with classes"
   ]
  },
  {
   "cell_type": "code",
   "execution_count": 28,
   "metadata": {},
   "outputs": [
    {
     "data": {
      "text/plain": [
       "(array([0, 1]), array([2, 2], dtype=int64))"
      ]
     },
     "execution_count": 28,
     "metadata": {},
     "output_type": "execute_result"
    }
   ],
   "source": [
    "items, counts  #items are the unique classes present in topK values and counts are the freq of occurrences of these unique classes."
   ]
  },
  {
   "cell_type": "code",
   "execution_count": 29,
   "metadata": {},
   "outputs": [
    {
     "data": {
      "text/plain": [
       "0"
      ]
     },
     "execution_count": 29,
     "metadata": {},
     "output_type": "execute_result"
    }
   ],
   "source": [
    "#argmax\n",
    "np.argmax(counts)  #this returns the index of the max values in the counts array.Here 0 is the index"
   ]
  },
  {
   "cell_type": "code",
   "execution_count": 30,
   "metadata": {},
   "outputs": [
    {
     "data": {
      "text/plain": [
       "0"
      ]
     },
     "execution_count": 30,
     "metadata": {},
     "output_type": "execute_result"
    }
   ],
   "source": [
    "items[np.argmax(counts)]  #this returns the value of items array at index of the max values in the counts array. Here 0 is the class."
   ]
  },
  {
   "cell_type": "markdown",
   "metadata": {},
   "source": [
    "### KNN is a bruteforce algorithm. It finds the distance for all points and takes more time.It sis not an optimised algrithm. No work is done during Training , all work is done during Testing."
   ]
  }
 ],
 "metadata": {
  "kernelspec": {
   "display_name": "Python 3",
   "language": "python",
   "name": "python3"
  },
  "language_info": {
   "codemirror_mode": {
    "name": "ipython",
    "version": 3
   },
   "file_extension": ".py",
   "mimetype": "text/x-python",
   "name": "python",
   "nbconvert_exporter": "python",
   "pygments_lexer": "ipython3",
   "version": "3.7.6"
  }
 },
 "nbformat": 4,
 "nbformat_minor": 4
}
